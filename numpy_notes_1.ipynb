{
  "nbformat": 4,
  "nbformat_minor": 0,
  "metadata": {
    "colab": {
      "provenance": [],
      "collapsed_sections": []
    },
    "kernelspec": {
      "name": "python3",
      "display_name": "Python 3"
    },
    "language_info": {
      "name": "python"
    }
  },
  "cells": [
    {
      "cell_type": "code",
      "execution_count": null,
      "metadata": {
        "colab": {
          "base_uri": "https://localhost:8080/"
        },
        "id": "x0lZJPeXPIZp",
        "outputId": "017f65e6-a02b-4198-ced0-020b416fc4f4"
      },
      "outputs": [
        {
          "output_type": "stream",
          "name": "stdout",
          "text": [
            "Welcome to numpy Learnings 1\n"
          ]
        }
      ],
      "source": [
        "print('Welcome to numpy Learnings 1')"
      ]
    },
    {
      "cell_type": "markdown",
      "source": [
        "NumPy is a library for the Python programming language, adding support for large, multi-dimensional arrays and matrices, along with a large collection of high-level mathematical functions to operate on these arrays."
      ],
      "metadata": {
        "id": "uQYWRXFrcep9"
      }
    },
    {
      "cell_type": "markdown",
      "source": [
        "# Two ways to do square of each element in a list:"
      ],
      "metadata": {
        "id": "VGTo7DJ8Jt0d"
      }
    },
    {
      "cell_type": "code",
      "source": [
        "a = [1,2,3,4,5]\n",
        "b = [i**2 for i in a]\n",
        "print(b)"
      ],
      "metadata": {
        "colab": {
          "base_uri": "https://localhost:8080/"
        },
        "id": "HrO9lZjhx1sJ",
        "outputId": "f6f7095a-c376-4afa-b8bb-fa036463af94"
      },
      "execution_count": null,
      "outputs": [
        {
          "output_type": "stream",
          "name": "stdout",
          "text": [
            "[1, 4, 9, 16, 25]\n"
          ]
        }
      ]
    },
    {
      "cell_type": "code",
      "source": [
        "import numpy as np # as means alias"
      ],
      "metadata": {
        "id": "3djPiFuMM7BL"
      },
      "execution_count": 2,
      "outputs": []
    },
    {
      "cell_type": "markdown",
      "source": [
        "# Numpy supports element wise operation:"
      ],
      "metadata": {
        "id": "Z9U7uqa7b4Oh"
      }
    },
    {
      "cell_type": "code",
      "source": [
        "a = np.array([1,2,3,4,5])\n",
        "a ** 2"
      ],
      "metadata": {
        "colab": {
          "base_uri": "https://localhost:8080/"
        },
        "id": "OtIoyjpOJ7IO",
        "outputId": "930c5066-54ef-45a4-b081-943897ceca0d"
      },
      "execution_count": null,
      "outputs": [
        {
          "output_type": "execute_result",
          "data": {
            "text/plain": [
              "array([ 1,  4,  9, 16, 25])"
            ]
          },
          "metadata": {},
          "execution_count": 13
        }
      ]
    },
    {
      "cell_type": "code",
      "source": [
        "print(a ** 2) # "
      ],
      "metadata": {
        "colab": {
          "base_uri": "https://localhost:8080/"
        },
        "id": "ZAPuDd6YKIdo",
        "outputId": "92cd168a-1dbd-45be-ad97-550b49298d72"
      },
      "execution_count": null,
      "outputs": [
        {
          "output_type": "stream",
          "name": "stdout",
          "text": [
            "[ 1  4  9 16 25]\n"
          ]
        }
      ]
    },
    {
      "cell_type": "code",
      "source": [
        "b = np.array([1,2,3,4,5])\n",
        "print(b)"
      ],
      "metadata": {
        "colab": {
          "base_uri": "https://localhost:8080/"
        },
        "id": "9_3hbwmHKJKN",
        "outputId": "42638750-a6b3-41b9-9784-15a06a95f0be"
      },
      "execution_count": null,
      "outputs": [
        {
          "output_type": "stream",
          "name": "stdout",
          "text": [
            "[1 2 3 4 5]\n"
          ]
        }
      ]
    },
    {
      "cell_type": "markdown",
      "source": [
        "# Type of np.array"
      ],
      "metadata": {
        "id": "DRTarHF4UEj9"
      }
    },
    {
      "cell_type": "code",
      "source": [
        "type(b) # type of np.array is ndarray. An ndarray is a (usually fixed-size) multidimensional container of items of the same type and size. nd = n dimensional."
      ],
      "metadata": {
        "colab": {
          "base_uri": "https://localhost:8080/"
        },
        "id": "vO6Ogf29NMe_",
        "outputId": "f338fc38-8f0f-4130-8caf-f57fea180ce4"
      },
      "execution_count": null,
      "outputs": [
        {
          "output_type": "execute_result",
          "data": {
            "text/plain": [
              "numpy.ndarray"
            ]
          },
          "metadata": {},
          "execution_count": 16
        }
      ]
    },
    {
      "cell_type": "markdown",
      "source": [
        "# Data type of np array's elements"
      ],
      "metadata": {
        "id": "_pBtXFJQUNV4"
      }
    },
    {
      "cell_type": "code",
      "source": [
        "b.dtype   # dtype: Data type objects gives us Data-type of the array's elements."
      ],
      "metadata": {
        "colab": {
          "base_uri": "https://localhost:8080/"
        },
        "id": "6QknkjneNPPk",
        "outputId": "b7b1c95b-1791-4d33-8bd2-10fd04f4ae16"
      },
      "execution_count": null,
      "outputs": [
        {
          "output_type": "execute_result",
          "data": {
            "text/plain": [
              "dtype('int64')"
            ]
          },
          "metadata": {},
          "execution_count": 20
        }
      ]
    },
    {
      "cell_type": "code",
      "source": [
        "print(b.dtype)"
      ],
      "metadata": {
        "colab": {
          "base_uri": "https://localhost:8080/"
        },
        "id": "ZiluPpJqOC1P",
        "outputId": "11d30ee5-6a94-46e5-b97d-687edf8f5a92"
      },
      "execution_count": null,
      "outputs": [
        {
          "output_type": "stream",
          "name": "stdout",
          "text": [
            "int64\n"
          ]
        }
      ]
    },
    {
      "cell_type": "markdown",
      "source": [
        "# Speed Comparison of python and numpy"
      ],
      "metadata": {
        "id": "3Wdu1j6hT8dF"
      }
    },
    {
      "cell_type": "code",
      "source": [
        "a = range(10000)   # 0 - 9999"
      ],
      "metadata": {
        "id": "9ybxDzp5T7Ny"
      },
      "execution_count": null,
      "outputs": []
    },
    {
      "cell_type": "code",
      "source": [
        "%timeit [i**2 for i in a] # 7 runs, 100 loops each: Here it decided that it does not need more than 100 loops to find 7 best runs that can give estimate average time this piece of code takes."
      ],
      "metadata": {
        "colab": {
          "base_uri": "https://localhost:8080/"
        },
        "id": "ptokiqLQRzup",
        "outputId": "aaed794d-f799-4824-fe6e-e18b459d69fd"
      },
      "execution_count": null,
      "outputs": [
        {
          "output_type": "stream",
          "name": "stdout",
          "text": [
            "2.92 ms ± 66.9 µs per loop (mean ± std. dev. of 7 runs, 100 loops each)\n"
          ]
        }
      ]
    },
    {
      "cell_type": "code",
      "source": [
        "b = np.arange(10000)"
      ],
      "metadata": {
        "id": "9RDYvlQ-U5Zp"
      },
      "execution_count": null,
      "outputs": []
    },
    {
      "cell_type": "code",
      "source": [
        "%timeit b ** 2   # 7 runs, 100000 loops each: Means that it needs 100000 loops to find 7 best out of it for returning the average time it(this piece of code) takes."
      ],
      "metadata": {
        "colab": {
          "base_uri": "https://localhost:8080/"
        },
        "id": "7ZTdqW4eVDoI",
        "outputId": "9be66cd8-8e9d-4769-de02-25cde1e41c70"
      },
      "execution_count": null,
      "outputs": [
        {
          "output_type": "stream",
          "name": "stdout",
          "text": [
            "6.67 µs ± 83.2 ns per loop (mean ± std. dev. of 7 runs, 100000 loops each)\n"
          ]
        }
      ]
    },
    {
      "cell_type": "markdown",
      "source": [
        "A millisecond (ms or msec) is one thousandth of a second and is commonly used in measuring the time to read to or write from a hard disk or a CD-ROM player or to measure packet travel time on the Internet. For comparison, a microsecond (us or Greek letter mu plus s) is one millionth (10^6) of a second.\n",
        "\n",
        "1 ms = 1,000 µs\n",
        "\n",
        "2.92 ms = 2,920 µs # time taken here by python list\n",
        "\n",
        "6.67 µs = 0.00667 ms # time taken here by np array\n",
        "\n",
        "**Why is nparray so fast?** It is built in C.\n",
        "\n",
        "\n",
        "---\n",
        "\n",
        "\n"
      ],
      "metadata": {
        "id": "bjBsHTVkVdqd"
      }
    },
    {
      "cell_type": "markdown",
      "source": [
        "# **Difference between range and arange:**"
      ],
      "metadata": {
        "id": "iloXqp1H5Fnb"
      }
    },
    {
      "cell_type": "code",
      "source": [
        "a = range(1,10,5)"
      ],
      "metadata": {
        "id": "NZiMEjJy5Kdh"
      },
      "execution_count": null,
      "outputs": []
    },
    {
      "cell_type": "code",
      "source": [
        "for i in a:\n",
        "  print(i)"
      ],
      "metadata": {
        "colab": {
          "base_uri": "https://localhost:8080/"
        },
        "id": "-xlSE2d65Ugp",
        "outputId": "96153248-d94f-4eef-e6d0-f5a3d1ffa1aa"
      },
      "execution_count": null,
      "outputs": [
        {
          "output_type": "stream",
          "name": "stdout",
          "text": [
            "1\n",
            "6\n"
          ]
        }
      ]
    },
    {
      "cell_type": "code",
      "source": [
        "b = np.arange(1,10,0.5) # We can take float values in arange.\n",
        "print(b)"
      ],
      "metadata": {
        "colab": {
          "base_uri": "https://localhost:8080/"
        },
        "id": "zUifx9T55aG-",
        "outputId": "f53e787d-50e7-4860-82f8-35570a9bd161"
      },
      "execution_count": null,
      "outputs": [
        {
          "output_type": "stream",
          "name": "stdout",
          "text": [
            "[1.  1.5 2.  2.5 3.  3.5 4.  4.5 5.  5.5 6.  6.5 7.  7.5 8.  8.5 9.  9.5]\n"
          ]
        }
      ]
    },
    {
      "cell_type": "markdown",
      "source": [
        "Thus, reasons why we use numpy:\n",
        "1. Fast - check above\n",
        "2. Cleaner syntax is comprehensible(able to be understood) - `[i**2 for i in a]` vs `b ** 2`\n",
        "3. Element wise operation - check above\n",
        "4. Functions - many functions provided in numpy which would have been very difficult in Python\n",
        "5. Homogeneous - See below\n",
        "\n",
        "\n",
        "---\n",
        "\n"
      ],
      "metadata": {
        "id": "oKLF54XT54Kb"
      }
    },
    {
      "cell_type": "markdown",
      "source": [
        "# **Homogeneous nature of numpy arrays:**"
      ],
      "metadata": {
        "id": "GUden9vC8dUz"
      }
    },
    {
      "cell_type": "code",
      "source": [
        "a = [1,2,3,'scaler', 1.2] \n",
        "print(a)"
      ],
      "metadata": {
        "colab": {
          "base_uri": "https://localhost:8080/"
        },
        "id": "cHel2AYM5g9h",
        "outputId": "131690f1-1c26-4312-842c-827bf6135bd3"
      },
      "execution_count": null,
      "outputs": [
        {
          "output_type": "stream",
          "name": "stdout",
          "text": [
            "[1, 2, 3, 'scaler', 1.2]\n"
          ]
        }
      ]
    },
    {
      "cell_type": "code",
      "source": [
        "b = np.array([1,2,3,'scaler', 1.2])    # Every element gets turned into a string.  \n",
        "print(b)"
      ],
      "metadata": {
        "colab": {
          "base_uri": "https://localhost:8080/"
        },
        "id": "9d8Ev-dI8pm6",
        "outputId": "e0cc4720-34ba-44f1-937a-c73c1b06ba62"
      },
      "execution_count": null,
      "outputs": [
        {
          "output_type": "stream",
          "name": "stdout",
          "text": [
            "['1' '2' '3' 'scaler' '1.2']\n"
          ]
        }
      ]
    },
    {
      "cell_type": "markdown",
      "source": [
        "Inference: It means that even if you try to create a heterogeneous(elements with different data type) np array, it's going to turn(implicit conversion) the elements into homogeneous(elements with similar data type) elements by changing the data type that suits best.\n",
        "\n",
        "It is based on C (programming language) arrays."
      ],
      "metadata": {
        "id": "F7bdEgl986mO"
      }
    },
    {
      "cell_type": "markdown",
      "source": [
        "\n",
        "\n",
        "---\n",
        "\n"
      ],
      "metadata": {
        "id": "5eSWFA9oUpRN"
      }
    },
    {
      "cell_type": "markdown",
      "source": [
        "# **How elements are stored in Python list vs Numpy array:**\n",
        "\n",
        "Notice below how elements in python list are scattered and are of different sizes, whereas elements in Numpy array are of the same size and thus, can be saved in a contiguous manner.\n",
        "\n",
        "\n",
        "Python list saves references to the memory blocks where the elements are actually stored. So, there's overhead involved(in actually using the reference to the reach the actual value). \n",
        "\n",
        "In np array, there's less overhead since all elements are stored in a contiguous fashion. All elements are easily accessible one after the other. A particular element can be directly accessed. Moreover, you can perform faster operations on contiguous elements of array. \n",
        "\n",
        "Overhead is minimum as not much address translations are there while executing a process.\n",
        "\n",
        "![767ysmx0hpyq62ba89uh.png](data:image/png;base64,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)"
      ],
      "metadata": {
        "id": "5rq37Tl2A0eb"
      }
    },
    {
      "cell_type": "markdown",
      "source": [
        "\n",
        "\n",
        "---\n",
        "\n",
        "\n",
        "# **Implicit type conversion in np.array:**"
      ],
      "metadata": {
        "id": "wfCP5MtXcDPl"
      }
    },
    {
      "cell_type": "code",
      "source": [
        "a = np.array([1,2,3,4,5])\n",
        "print(a)\n",
        "print(type(a))\n",
        "print(a.dtype)"
      ],
      "metadata": {
        "colab": {
          "base_uri": "https://localhost:8080/"
        },
        "id": "aRO84jd281I4",
        "outputId": "91199fa9-46c8-48eb-e54a-0235c9938e04"
      },
      "execution_count": null,
      "outputs": [
        {
          "output_type": "stream",
          "name": "stdout",
          "text": [
            "[1 2 3 4 5]\n",
            "<class 'numpy.ndarray'>\n",
            "int64\n"
          ]
        }
      ]
    },
    {
      "cell_type": "code",
      "source": [
        "a = np.array([1,2,3,4,5,4.5])\n",
        "print(a)\n",
        "print(type(a))\n",
        "print(a.dtype)"
      ],
      "metadata": {
        "colab": {
          "base_uri": "https://localhost:8080/"
        },
        "id": "aoBcugbu__WW",
        "outputId": "16a9b8e3-fa4f-4415-cb98-500b7c893c18"
      },
      "execution_count": null,
      "outputs": [
        {
          "output_type": "stream",
          "name": "stdout",
          "text": [
            "[1.  2.  3.  4.  5.  4.5]\n",
            "<class 'numpy.ndarray'>\n",
            "float64\n"
          ]
        }
      ]
    },
    {
      "cell_type": "markdown",
      "source": [],
      "metadata": {
        "id": "THa8dYjj_7lK"
      }
    },
    {
      "cell_type": "code",
      "source": [
        "a = np.array([1,2,3,4,5,'a'])\n",
        "print(a)\n",
        "print(type(a))\n",
        "print(a.dtype)"
      ],
      "metadata": {
        "colab": {
          "base_uri": "https://localhost:8080/"
        },
        "id": "GXT0aC6EdLB0",
        "outputId": "94e48e4c-06c4-4d78-a88d-535d19c0693a"
      },
      "execution_count": null,
      "outputs": [
        {
          "output_type": "stream",
          "name": "stdout",
          "text": [
            "['1' '2' '3' '4' '5' 'a']\n",
            "<class 'numpy.ndarray'>\n",
            "<U21\n"
          ]
        }
      ]
    },
    {
      "cell_type": "code",
      "source": [
        "a = np.array([1,2,3,4,5,'a', 4.5])\n",
        "print(a)\n",
        "print(type(a))\n",
        "print(a.dtype) \n",
        "\n",
        "''' U32: U stands for unicode and 32 stands for number of bytes it is taking to store each of these elements.\n",
        "\n",
        "(The Unicode Standard is an information technology standard for \n",
        "the consistent encoding, representation, and handling of text expressed in most of the world's writing systems.) '''"
      ],
      "metadata": {
        "colab": {
          "base_uri": "https://localhost:8080/"
        },
        "id": "63C-0mRGdisD",
        "outputId": "1765e093-c2d9-48a1-e273-e9059102a338"
      },
      "execution_count": null,
      "outputs": [
        {
          "output_type": "stream",
          "name": "stdout",
          "text": [
            "['1' '2' '3' '4' '5' 'a' '4.5']\n",
            "<class 'numpy.ndarray'>\n",
            "<U32\n"
          ]
        }
      ]
    },
    {
      "cell_type": "code",
      "source": [
        "a = np.array([True, False])\n",
        "print(a)\n",
        "print(type(a))\n",
        "print(a.dtype)"
      ],
      "metadata": {
        "colab": {
          "base_uri": "https://localhost:8080/"
        },
        "id": "2mrGAbFXe2yh",
        "outputId": "0d6aa7b4-c607-4e68-a703-7f1fb9a3880f"
      },
      "execution_count": null,
      "outputs": [
        {
          "output_type": "stream",
          "name": "stdout",
          "text": [
            "[ True False]\n",
            "<class 'numpy.ndarray'>\n",
            "bool\n"
          ]
        }
      ]
    },
    {
      "cell_type": "code",
      "source": [
        "a = np.array([True, False, 1])   # bool has less precedence than int.\n",
        "print(a)\n",
        "print(type(a))\n",
        "print(a.dtype)"
      ],
      "metadata": {
        "colab": {
          "base_uri": "https://localhost:8080/"
        },
        "id": "xHaJPU_BfCnF",
        "outputId": "c97c89ca-d5a5-4b51-fceb-7675776cb460"
      },
      "execution_count": null,
      "outputs": [
        {
          "output_type": "stream",
          "name": "stdout",
          "text": [
            "[1 0 1]\n",
            "<class 'numpy.ndarray'>\n",
            "int64\n"
          ]
        }
      ]
    },
    {
      "cell_type": "markdown",
      "source": [
        "Inference: implicit type conversion happens in np arrays. How?\n",
        "\n",
        "Preference is given as follow:\n",
        "\n",
        "**bool << int << float << string**\n",
        "\n",
        "In cell 9 above, a has int, str and float, but everything is converted to str since it has the most precedence. \n",
        "\n"
      ],
      "metadata": {
        "id": "4uZ5TD1td43g"
      }
    },
    {
      "cell_type": "markdown",
      "source": [
        "# Dimension and shape of np array:"
      ],
      "metadata": {
        "id": "or28olaEZLu5"
      }
    },
    {
      "cell_type": "code",
      "source": [
        "a = np.array([1,2,3,4,5])\n",
        "b = np.array([[1,2,3], [4,5,6]])\n",
        "print(a.ndim)   # dimensions = directions\n",
        "print(b.ndim)"
      ],
      "metadata": {
        "colab": {
          "base_uri": "https://localhost:8080/"
        },
        "id": "GieUVU2Hd3FE",
        "outputId": "29827b52-61ba-48b7-92e8-45ab8b86bd6c"
      },
      "execution_count": null,
      "outputs": [
        {
          "output_type": "stream",
          "name": "stdout",
          "text": [
            "1\n",
            "2\n"
          ]
        },
        {
          "output_type": "stream",
          "name": "stderr",
          "text": [
            "/usr/local/lib/python3.7/dist-packages/ipykernel_launcher.py:3: VisibleDeprecationWarning: Creating an ndarray from ragged nested sequences (which is a list-or-tuple of lists-or-tuples-or ndarrays with different lengths or shapes) is deprecated. If you meant to do this, you must specify 'dtype=object' when creating the ndarray.\n",
            "  This is separate from the ipykernel package so we can avoid doing imports until\n"
          ]
        }
      ]
    },
    {
      "cell_type": "code",
      "source": [
        "print(a.shape) # how many elements in a particular direction.\n",
        "print(b.shape) # you can say 2 row, 3 columns."
      ],
      "metadata": {
        "colab": {
          "base_uri": "https://localhost:8080/"
        },
        "id": "cEShZ5tRdYNw",
        "outputId": "39f07743-fdda-4bde-b539-490d5fd3bdd0"
      },
      "execution_count": null,
      "outputs": [
        {
          "output_type": "stream",
          "name": "stdout",
          "text": [
            "(5,)\n",
            "(2, 3)\n"
          ]
        }
      ]
    },
    {
      "cell_type": "markdown",
      "source": [
        "# linspace in numpy: gives equally spaced values between start and stop(included) values."
      ],
      "metadata": {
        "id": "r8NwbYCMleKa"
      }
    },
    {
      "cell_type": "code",
      "source": [
        "# a = np.arange(Start, Stop, Step) What if we don't want steps? But, we want a certain number of elements between that range? That's where linspace comes in."
      ],
      "metadata": {
        "id": "WG_6CEqwe536"
      },
      "execution_count": null,
      "outputs": []
    },
    {
      "cell_type": "code",
      "source": [
        "np.linspace(start, stop, num) # num: how many values do I want between start and stop. Stop: stop values that's included by default unlike range/arange function."
      ],
      "metadata": {
        "id": "oiXVRLqumNz7"
      },
      "execution_count": null,
      "outputs": []
    },
    {
      "cell_type": "code",
      "source": [
        "a = np.linspace(1,10,10)\n",
        "print(a)"
      ],
      "metadata": {
        "colab": {
          "base_uri": "https://localhost:8080/"
        },
        "id": "c1KAaxnsnptO",
        "outputId": "2801c002-24d4-45e6-cca1-2a596970e95d"
      },
      "execution_count": null,
      "outputs": [
        {
          "output_type": "stream",
          "name": "stdout",
          "text": [
            "[ 1.  2.  3.  4.  5.  6.  7.  8.  9. 10.]\n"
          ]
        }
      ]
    },
    {
      "cell_type": "code",
      "source": [
        "a = np.linspace(1,10, 19) \n",
        "print(a)  # The output values are float because it has to provide equally spaced values. If you subtract any two numbers then, x2 - x1 = x3 - x2. Thus, the difference remains same."
      ],
      "metadata": {
        "colab": {
          "base_uri": "https://localhost:8080/"
        },
        "id": "47PjJHL2qEPC",
        "outputId": "46cdc95e-c725-45aa-c03a-b392bba6b3df"
      },
      "execution_count": null,
      "outputs": [
        {
          "output_type": "stream",
          "name": "stdout",
          "text": [
            "[ 1.   1.5  2.   2.5  3.   3.5  4.   4.5  5.   5.5  6.   6.5  7.   7.5\n",
            "  8.   8.5  9.   9.5 10. ]\n"
          ]
        }
      ]
    },
    {
      "cell_type": "code",
      "source": [
        "a = np.linspace(1,20,20)\n",
        "print(a)\n",
        "print(type(a))"
      ],
      "metadata": {
        "colab": {
          "base_uri": "https://localhost:8080/"
        },
        "id": "om-Fm4CmqPY5",
        "outputId": "f92173c0-57b2-4487-a858-b9ed723c50d0"
      },
      "execution_count": null,
      "outputs": [
        {
          "output_type": "stream",
          "name": "stdout",
          "text": [
            "[ 1.  2.  3.  4.  5.  6.  7.  8.  9. 10. 11. 12. 13. 14. 15. 16. 17. 18.\n",
            " 19. 20.]\n",
            "<class 'numpy.ndarray'>\n"
          ]
        }
      ]
    },
    {
      "cell_type": "code",
      "source": [
        "a = np.linspace(1,10,31)\n",
        "print(a)"
      ],
      "metadata": {
        "colab": {
          "base_uri": "https://localhost:8080/"
        },
        "id": "aXxN9ri-rJH8",
        "outputId": "ee0b105b-8b1e-432a-9e6e-e722f6106b44"
      },
      "execution_count": null,
      "outputs": [
        {
          "output_type": "stream",
          "name": "stdout",
          "text": [
            "[ 1.   1.3  1.6  1.9  2.2  2.5  2.8  3.1  3.4  3.7  4.   4.3  4.6  4.9\n",
            "  5.2  5.5  5.8  6.1  6.4  6.7  7.   7.3  7.6  7.9  8.2  8.5  8.8  9.1\n",
            "  9.4  9.7 10. ]\n"
          ]
        }
      ]
    },
    {
      "cell_type": "markdown",
      "source": [
        "# 2 D array in numpy"
      ],
      "metadata": {
        "id": "27m67Hcqz5Lj"
      }
    },
    {
      "cell_type": "code",
      "source": [
        "a = np.array([[1,2,3], [4,5,6], [7,8,9]])\n",
        "print(a)"
      ],
      "metadata": {
        "colab": {
          "base_uri": "https://localhost:8080/"
        },
        "id": "qQYnDwffz34V",
        "outputId": "2486b65c-2fe4-4605-ba0a-4b8e7a4284b7"
      },
      "execution_count": null,
      "outputs": [
        {
          "output_type": "stream",
          "name": "stdout",
          "text": [
            "[[1 2 3]\n",
            " [4 5 6]\n",
            " [7 8 9]]\n"
          ]
        }
      ]
    },
    {
      "cell_type": "code",
      "source": [
        "print(type(a))"
      ],
      "metadata": {
        "colab": {
          "base_uri": "https://localhost:8080/"
        },
        "id": "ogV0VTHNvgXO",
        "outputId": "12740627-b9d7-464f-ae7c-026af187829c"
      },
      "execution_count": null,
      "outputs": [
        {
          "output_type": "stream",
          "name": "stdout",
          "text": [
            "<class 'numpy.ndarray'>\n"
          ]
        }
      ]
    },
    {
      "cell_type": "code",
      "source": [
        "print(a.ndim)"
      ],
      "metadata": {
        "colab": {
          "base_uri": "https://localhost:8080/"
        },
        "id": "rlSIJLII0nOa",
        "outputId": "58da1370-13c9-4ddb-eda0-7c5c77d38ba6"
      },
      "execution_count": null,
      "outputs": [
        {
          "output_type": "stream",
          "name": "stdout",
          "text": [
            "2\n"
          ]
        }
      ]
    },
    {
      "cell_type": "code",
      "source": [
        "print(a.shape)"
      ],
      "metadata": {
        "colab": {
          "base_uri": "https://localhost:8080/"
        },
        "id": "io72ofJe0s9E",
        "outputId": "26b62a8d-37df-434f-b0d7-f4a4d7aba31f"
      },
      "execution_count": null,
      "outputs": [
        {
          "output_type": "stream",
          "name": "stdout",
          "text": [
            "(3, 3)\n"
          ]
        }
      ]
    },
    {
      "cell_type": "code",
      "source": [
        "b = np.array([[1,2,3], [4,5,6,7]])\n",
        "print(b) # It gives DeprecationWarning. Creating an ndarray from ragged nested sequences (which is a list-or-tuple of lists-or-tuples-or ndarrays with different lengths or shapes) is deprecated."
      ],
      "metadata": {
        "colab": {
          "base_uri": "https://localhost:8080/"
        },
        "id": "X485OeSe0ra5",
        "outputId": "4ab72a5c-7567-41de-895f-4021a6c005e8"
      },
      "execution_count": null,
      "outputs": [
        {
          "output_type": "stream",
          "name": "stdout",
          "text": [
            "[list([1, 2, 3]) list([4, 5, 6, 7])]\n"
          ]
        },
        {
          "output_type": "stream",
          "name": "stderr",
          "text": [
            "/usr/local/lib/python3.7/dist-packages/ipykernel_launcher.py:1: VisibleDeprecationWarning: Creating an ndarray from ragged nested sequences (which is a list-or-tuple of lists-or-tuples-or ndarrays with different lengths or shapes) is deprecated. If you meant to do this, you must specify 'dtype=object' when creating the ndarray.\n",
            "  \"\"\"Entry point for launching an IPython kernel.\n"
          ]
        }
      ]
    },
    {
      "cell_type": "markdown",
      "source": [
        "# reshape in numpy:"
      ],
      "metadata": {
        "id": "2-Q_KKwZPTqs"
      }
    },
    {
      "cell_type": "code",
      "source": [
        "a = np.arange(1,13)\n",
        "print(a)"
      ],
      "metadata": {
        "colab": {
          "base_uri": "https://localhost:8080/"
        },
        "id": "vHsExUFS5t2o",
        "outputId": "94c5d29e-4a7b-44ab-9d3f-67e8c2b4d176"
      },
      "execution_count": null,
      "outputs": [
        {
          "output_type": "stream",
          "name": "stdout",
          "text": [
            "[ 1  2  3  4  5  6  7  8  9 10 11 12]\n"
          ]
        }
      ]
    },
    {
      "cell_type": "code",
      "source": [
        "a.reshape((1,12)) # It converts 1D array to 2D array"
      ],
      "metadata": {
        "colab": {
          "base_uri": "https://localhost:8080/"
        },
        "id": "13afvCidPmEB",
        "outputId": "e5c95016-b37e-41d7-fc69-cdb851585f47"
      },
      "execution_count": null,
      "outputs": [
        {
          "output_type": "execute_result",
          "data": {
            "text/plain": [
              "array([[ 1,  2,  3,  4,  5,  6,  7,  8,  9, 10, 11, 12]])"
            ]
          },
          "metadata": {},
          "execution_count": 30
        }
      ]
    },
    {
      "cell_type": "code",
      "source": [
        "a.reshape((12,1))"
      ],
      "metadata": {
        "colab": {
          "base_uri": "https://localhost:8080/"
        },
        "id": "ePMXTaY1P-zo",
        "outputId": "41e7f315-9b83-4349-cfa8-cb6d562fa269"
      },
      "execution_count": null,
      "outputs": [
        {
          "output_type": "execute_result",
          "data": {
            "text/plain": [
              "array([[ 1],\n",
              "       [ 2],\n",
              "       [ 3],\n",
              "       [ 4],\n",
              "       [ 5],\n",
              "       [ 6],\n",
              "       [ 7],\n",
              "       [ 8],\n",
              "       [ 9],\n",
              "       [10],\n",
              "       [11],\n",
              "       [12]])"
            ]
          },
          "metadata": {},
          "execution_count": 31
        }
      ]
    },
    {
      "cell_type": "code",
      "source": [
        "a.reshape((6,2))"
      ],
      "metadata": {
        "colab": {
          "base_uri": "https://localhost:8080/"
        },
        "id": "UexY6OwaQP-S",
        "outputId": "11257e8f-2a56-4391-8cb1-97437e37c884"
      },
      "execution_count": null,
      "outputs": [
        {
          "output_type": "execute_result",
          "data": {
            "text/plain": [
              "array([[ 1,  2],\n",
              "       [ 3,  4],\n",
              "       [ 5,  6],\n",
              "       [ 7,  8],\n",
              "       [ 9, 10],\n",
              "       [11, 12]])"
            ]
          },
          "metadata": {},
          "execution_count": 33
        }
      ]
    },
    {
      "cell_type": "code",
      "source": [
        "a.reshape((2,6))"
      ],
      "metadata": {
        "colab": {
          "base_uri": "https://localhost:8080/"
        },
        "id": "p9QLoCgKQwkG",
        "outputId": "1cb8c930-2eed-44fd-8a5c-7e60226aa2fc"
      },
      "execution_count": null,
      "outputs": [
        {
          "output_type": "execute_result",
          "data": {
            "text/plain": [
              "array([[ 1,  2,  3,  4,  5,  6],\n",
              "       [ 7,  8,  9, 10, 11, 12]])"
            ]
          },
          "metadata": {},
          "execution_count": 34
        }
      ]
    },
    {
      "cell_type": "code",
      "source": [
        "a.reshape((3,4))"
      ],
      "metadata": {
        "colab": {
          "base_uri": "https://localhost:8080/"
        },
        "id": "8HRCSzx3Q-Ak",
        "outputId": "f868740f-2aaa-4bcc-dd74-7b975f816b83"
      },
      "execution_count": null,
      "outputs": [
        {
          "output_type": "execute_result",
          "data": {
            "text/plain": [
              "array([[ 1,  2,  3,  4],\n",
              "       [ 5,  6,  7,  8],\n",
              "       [ 9, 10, 11, 12]])"
            ]
          },
          "metadata": {},
          "execution_count": 35
        }
      ]
    },
    {
      "cell_type": "code",
      "source": [
        "a.reshape((4,3))"
      ],
      "metadata": {
        "colab": {
          "base_uri": "https://localhost:8080/"
        },
        "id": "VGmbT1WNRDtw",
        "outputId": "083e3243-84df-46da-867a-700c9b43a8a7"
      },
      "execution_count": null,
      "outputs": [
        {
          "output_type": "execute_result",
          "data": {
            "text/plain": [
              "array([[ 1,  2,  3],\n",
              "       [ 4,  5,  6],\n",
              "       [ 7,  8,  9],\n",
              "       [10, 11, 12]])"
            ]
          },
          "metadata": {},
          "execution_count": 36
        }
      ]
    },
    {
      "cell_type": "code",
      "source": [
        "a.reshape((-1,6)) # Use -1 when you're not sure about the number of rows."
      ],
      "metadata": {
        "colab": {
          "base_uri": "https://localhost:8080/"
        },
        "id": "J88xCUzmRHNJ",
        "outputId": "52698b51-d111-4f56-9a16-88f14f2435e9"
      },
      "execution_count": null,
      "outputs": [
        {
          "output_type": "execute_result",
          "data": {
            "text/plain": [
              "array([[ 1,  2,  3,  4,  5,  6],\n",
              "       [ 7,  8,  9, 10, 11, 12]])"
            ]
          },
          "metadata": {},
          "execution_count": 37
        }
      ]
    },
    {
      "cell_type": "code",
      "source": [
        "a.reshape((6,-1))"
      ],
      "metadata": {
        "colab": {
          "base_uri": "https://localhost:8080/"
        },
        "id": "f_uuqqXiVqZ4",
        "outputId": "716bf31a-125f-4bfd-8c91-52b4fa7c46e0"
      },
      "execution_count": null,
      "outputs": [
        {
          "output_type": "execute_result",
          "data": {
            "text/plain": [
              "array([[ 1,  2],\n",
              "       [ 3,  4],\n",
              "       [ 5,  6],\n",
              "       [ 7,  8],\n",
              "       [ 9, 10],\n",
              "       [11, 12]])"
            ]
          },
          "metadata": {},
          "execution_count": 38
        }
      ]
    },
    {
      "cell_type": "code",
      "source": [
        "a.reshape((-1,-1))  # ValueError: can only specify one unknown dimension"
      ],
      "metadata": {
        "colab": {
          "base_uri": "https://localhost:8080/",
          "height": 171
        },
        "id": "UEhNycyPV1iH",
        "outputId": "3d61d419-61bd-4124-b64e-21ef16ed425c"
      },
      "execution_count": null,
      "outputs": [
        {
          "output_type": "error",
          "ename": "ValueError",
          "evalue": "ignored",
          "traceback": [
            "\u001b[0;31m---------------------------------------------------------------------------\u001b[0m",
            "\u001b[0;31mValueError\u001b[0m                                Traceback (most recent call last)",
            "\u001b[0;32m<ipython-input-39-aa43799da6cd>\u001b[0m in \u001b[0;36m<module>\u001b[0;34m\u001b[0m\n\u001b[0;32m----> 1\u001b[0;31m \u001b[0ma\u001b[0m\u001b[0;34m.\u001b[0m\u001b[0mreshape\u001b[0m\u001b[0;34m(\u001b[0m\u001b[0;34m-\u001b[0m\u001b[0;36m1\u001b[0m\u001b[0;34m,\u001b[0m\u001b[0;34m-\u001b[0m\u001b[0;36m1\u001b[0m\u001b[0;34m)\u001b[0m\u001b[0;34m\u001b[0m\u001b[0;34m\u001b[0m\u001b[0m\n\u001b[0m",
            "\u001b[0;31mValueError\u001b[0m: can only specify one unknown dimension"
          ]
        }
      ]
    },
    {
      "cell_type": "code",
      "source": [
        "a.reshape((10,2))   # ValueError: cannot reshape array of size 12 into shape (10,2)"
      ],
      "metadata": {
        "colab": {
          "base_uri": "https://localhost:8080/",
          "height": 171
        },
        "id": "ydQFLHgkV--K",
        "outputId": "2b6f9bc5-675a-4741-dd0c-6e615586fee1"
      },
      "execution_count": null,
      "outputs": [
        {
          "output_type": "error",
          "ename": "ValueError",
          "evalue": "ignored",
          "traceback": [
            "\u001b[0;31m---------------------------------------------------------------------------\u001b[0m",
            "\u001b[0;31mValueError\u001b[0m                                Traceback (most recent call last)",
            "\u001b[0;32m<ipython-input-40-22464767deb2>\u001b[0m in \u001b[0;36m<module>\u001b[0;34m\u001b[0m\n\u001b[0;32m----> 1\u001b[0;31m \u001b[0ma\u001b[0m\u001b[0;34m.\u001b[0m\u001b[0mreshape\u001b[0m\u001b[0;34m(\u001b[0m\u001b[0;36m10\u001b[0m\u001b[0;34m,\u001b[0m\u001b[0;36m2\u001b[0m\u001b[0;34m)\u001b[0m\u001b[0;34m\u001b[0m\u001b[0;34m\u001b[0m\u001b[0m\n\u001b[0m",
            "\u001b[0;31mValueError\u001b[0m: cannot reshape array of size 12 into shape (10,2)"
          ]
        }
      ]
    },
    {
      "cell_type": "code",
      "source": [
        "a.reshape((-1,1)) # important to know"
      ],
      "metadata": {
        "colab": {
          "base_uri": "https://localhost:8080/"
        },
        "id": "RuQD9OjbWGTS",
        "outputId": "1e8e0a03-02f3-4576-a7c7-4649cb9b8d97"
      },
      "execution_count": null,
      "outputs": [
        {
          "output_type": "execute_result",
          "data": {
            "text/plain": [
              "array([[ 1],\n",
              "       [ 2],\n",
              "       [ 3],\n",
              "       [ 4],\n",
              "       [ 5],\n",
              "       [ 6],\n",
              "       [ 7],\n",
              "       [ 8],\n",
              "       [ 9],\n",
              "       [10],\n",
              "       [11],\n",
              "       [12]])"
            ]
          },
          "metadata": {},
          "execution_count": 41
        }
      ]
    },
    {
      "cell_type": "code",
      "source": [
        "a.reshape((1,-1)) # important to know"
      ],
      "metadata": {
        "colab": {
          "base_uri": "https://localhost:8080/"
        },
        "id": "gpRKZEvPWW6P",
        "outputId": "28ae0da9-705e-467e-f4cf-32a5670c754f"
      },
      "execution_count": null,
      "outputs": [
        {
          "output_type": "execute_result",
          "data": {
            "text/plain": [
              "array([[ 1,  2,  3,  4,  5,  6,  7,  8,  9, 10, 11, 12]])"
            ]
          },
          "metadata": {},
          "execution_count": 42
        }
      ]
    },
    {
      "cell_type": "code",
      "source": [
        "b = np.arange(1,17)"
      ],
      "metadata": {
        "id": "RkhehM1UY8Mr"
      },
      "execution_count": null,
      "outputs": []
    },
    {
      "cell_type": "code",
      "source": [
        "c = b.reshape((1,16))\n",
        "print(c)"
      ],
      "metadata": {
        "colab": {
          "base_uri": "https://localhost:8080/"
        },
        "id": "eZkUTAcTZgK2",
        "outputId": "260ab3ec-cc68-4fe8-ee3b-730d7aa65921"
      },
      "execution_count": null,
      "outputs": [
        {
          "output_type": "stream",
          "name": "stdout",
          "text": [
            "[[ 1  2  3  4  5  6  7  8  9 10 11 12 13 14 15 16]]\n"
          ]
        }
      ]
    },
    {
      "cell_type": "code",
      "source": [
        "c.shape"
      ],
      "metadata": {
        "colab": {
          "base_uri": "https://localhost:8080/"
        },
        "id": "-lH2uBVEZl_0",
        "outputId": "6c3035f1-6118-409e-f126-7a29a8cd151e"
      },
      "execution_count": null,
      "outputs": [
        {
          "output_type": "execute_result",
          "data": {
            "text/plain": [
              "(1, 16)"
            ]
          },
          "metadata": {},
          "execution_count": 47
        }
      ]
    },
    {
      "cell_type": "code",
      "source": [
        "c.ndim"
      ],
      "metadata": {
        "colab": {
          "base_uri": "https://localhost:8080/"
        },
        "id": "REgqYhnRZqEr",
        "outputId": "2269d9c5-86ae-49c1-87e6-4f3cd277e292"
      },
      "execution_count": null,
      "outputs": [
        {
          "output_type": "execute_result",
          "data": {
            "text/plain": [
              "2"
            ]
          },
          "metadata": {},
          "execution_count": 48
        }
      ]
    },
    {
      "cell_type": "code",
      "source": [
        "c = b.reshape((16,1))\n",
        "print(c)"
      ],
      "metadata": {
        "colab": {
          "base_uri": "https://localhost:8080/"
        },
        "id": "ygbQ1_DXZxVL",
        "outputId": "bc4c2c53-9e3e-43bd-ab0c-160c18c7754a"
      },
      "execution_count": null,
      "outputs": [
        {
          "output_type": "stream",
          "name": "stdout",
          "text": [
            "[[ 1]\n",
            " [ 2]\n",
            " [ 3]\n",
            " [ 4]\n",
            " [ 5]\n",
            " [ 6]\n",
            " [ 7]\n",
            " [ 8]\n",
            " [ 9]\n",
            " [10]\n",
            " [11]\n",
            " [12]\n",
            " [13]\n",
            " [14]\n",
            " [15]\n",
            " [16]]\n"
          ]
        }
      ]
    },
    {
      "cell_type": "code",
      "source": [
        "c.shape"
      ],
      "metadata": {
        "colab": {
          "base_uri": "https://localhost:8080/"
        },
        "id": "GZrsojhNZ3Cx",
        "outputId": "e94192e0-9b4a-4bed-a152-2ba9393fe9d9"
      },
      "execution_count": null,
      "outputs": [
        {
          "output_type": "execute_result",
          "data": {
            "text/plain": [
              "(16, 1)"
            ]
          },
          "metadata": {},
          "execution_count": 50
        }
      ]
    },
    {
      "cell_type": "code",
      "source": [
        "b = np.arange(1,13)\n",
        "print(b)"
      ],
      "metadata": {
        "colab": {
          "base_uri": "https://localhost:8080/"
        },
        "id": "9Xgej9P0Z7kR",
        "outputId": "d589342f-f0d8-4433-92ba-343d7ac3c0c2"
      },
      "execution_count": null,
      "outputs": [
        {
          "output_type": "stream",
          "name": "stdout",
          "text": [
            "[ 1  2  3  4  5  6  7  8  9 10 11 12]\n"
          ]
        }
      ]
    },
    {
      "cell_type": "code",
      "source": [
        "c = b.reshape((3,4))\n",
        "print(c)"
      ],
      "metadata": {
        "colab": {
          "base_uri": "https://localhost:8080/"
        },
        "id": "r1XaHfNedbvg",
        "outputId": "8d49f9bd-ba6c-4b9d-bc12-164a12cfc9c3"
      },
      "execution_count": null,
      "outputs": [
        {
          "output_type": "stream",
          "name": "stdout",
          "text": [
            "[[ 1  2  3  4]\n",
            " [ 5  6  7  8]\n",
            " [ 9 10 11 12]]\n"
          ]
        }
      ]
    },
    {
      "cell_type": "markdown",
      "source": [
        "**Some functions:**"
      ],
      "metadata": {
        "id": "cttL4ydTeZYd"
      }
    },
    {
      "cell_type": "code",
      "source": [
        "c.T"
      ],
      "metadata": {
        "colab": {
          "base_uri": "https://localhost:8080/"
        },
        "id": "Bid2c2ZPdlsK",
        "outputId": "dc152135-3330-461c-9782-fc23ed6dca64"
      },
      "execution_count": null,
      "outputs": [
        {
          "output_type": "execute_result",
          "data": {
            "text/plain": [
              "array([[ 1,  5,  9],\n",
              "       [ 2,  6, 10],\n",
              "       [ 3,  7, 11],\n",
              "       [ 4,  8, 12]])"
            ]
          },
          "metadata": {},
          "execution_count": 56
        }
      ]
    },
    {
      "cell_type": "code",
      "source": [
        "c"
      ],
      "metadata": {
        "colab": {
          "base_uri": "https://localhost:8080/"
        },
        "id": "UD2QY9juduBs",
        "outputId": "4ef585a5-2792-488a-a75a-d7cb5e50c881"
      },
      "execution_count": null,
      "outputs": [
        {
          "output_type": "execute_result",
          "data": {
            "text/plain": [
              "array([[ 1,  2,  3,  4],\n",
              "       [ 5,  6,  7,  8],\n",
              "       [ 9, 10, 11, 12]])"
            ]
          },
          "metadata": {},
          "execution_count": 57
        }
      ]
    },
    {
      "cell_type": "markdown",
      "source": [
        "**2D array to 1D array:**"
      ],
      "metadata": {
        "id": "uDyxE_AzJL0t"
      }
    },
    {
      "cell_type": "code",
      "source": [
        "c.flatten() # flattening the array."
      ],
      "metadata": {
        "colab": {
          "base_uri": "https://localhost:8080/"
        },
        "id": "KbAPUesOd40i",
        "outputId": "f8cffff4-cff9-4d80-e199-64be88ff54f6"
      },
      "execution_count": null,
      "outputs": [
        {
          "output_type": "execute_result",
          "data": {
            "text/plain": [
              "array([ 1,  2,  3,  4,  5,  6,  7,  8,  9, 10, 11, 12])"
            ]
          },
          "metadata": {},
          "execution_count": 59
        }
      ]
    },
    {
      "cell_type": "markdown",
      "source": [
        "**Chaining:**"
      ],
      "metadata": {
        "id": "EmfTbX7lfO03"
      }
    },
    {
      "cell_type": "code",
      "source": [
        "b = np.arange(1,13).reshape((3,4)) # You can chain different functions like this.\n",
        "print(b) "
      ],
      "metadata": {
        "id": "ETpVgsnOd875",
        "colab": {
          "base_uri": "https://localhost:8080/"
        },
        "outputId": "68aae638-c406-4f4f-c2d4-762800e711f7"
      },
      "execution_count": 4,
      "outputs": [
        {
          "output_type": "stream",
          "name": "stdout",
          "text": [
            "[[ 1  2  3  4]\n",
            " [ 5  6  7  8]\n",
            " [ 9 10 11 12]]\n"
          ]
        }
      ]
    },
    {
      "cell_type": "markdown",
      "source": [
        "# Slicing/Accessing elements in a 1D numpy array:\n",
        "\n",
        "[start: end: step]"
      ],
      "metadata": {
        "id": "NpAq9fnBKBwv"
      }
    },
    {
      "cell_type": "code",
      "source": [
        "a = np.arange(1,13)"
      ],
      "metadata": {
        "id": "YBObIuMOJe4C"
      },
      "execution_count": 5,
      "outputs": []
    },
    {
      "cell_type": "code",
      "source": [
        "print(a)"
      ],
      "metadata": {
        "colab": {
          "base_uri": "https://localhost:8080/"
        },
        "id": "14SFXlJKKRfS",
        "outputId": "533275f1-68c2-4042-f82d-155dbb839d45"
      },
      "execution_count": 6,
      "outputs": [
        {
          "output_type": "stream",
          "name": "stdout",
          "text": [
            "[ 1  2  3  4  5  6  7  8  9 10 11 12]\n"
          ]
        }
      ]
    },
    {
      "cell_type": "code",
      "source": [
        "a[0:5] # last index is ignored ie. index 5 is exclusive."
      ],
      "metadata": {
        "colab": {
          "base_uri": "https://localhost:8080/"
        },
        "id": "kMevMn3pKTV0",
        "outputId": "2f7732d9-085a-4883-ea11-d8ed15f9e366"
      },
      "execution_count": 8,
      "outputs": [
        {
          "output_type": "execute_result",
          "data": {
            "text/plain": [
              "array([1, 2, 3, 4, 5])"
            ]
          },
          "metadata": {},
          "execution_count": 8
        }
      ]
    },
    {
      "cell_type": "code",
      "source": [
        "a[5:11]"
      ],
      "metadata": {
        "colab": {
          "base_uri": "https://localhost:8080/"
        },
        "id": "d6gw5cHUKVCc",
        "outputId": "4808e046-fde7-4dd9-8d06-064209a19135"
      },
      "execution_count": 9,
      "outputs": [
        {
          "output_type": "execute_result",
          "data": {
            "text/plain": [
              "array([ 6,  7,  8,  9, 10, 11])"
            ]
          },
          "metadata": {},
          "execution_count": 9
        }
      ]
    },
    {
      "cell_type": "code",
      "source": [
        "a[-1] # get the last index"
      ],
      "metadata": {
        "colab": {
          "base_uri": "https://localhost:8080/"
        },
        "id": "RUNpUeLZKsh0",
        "outputId": "8f564003-f605-4dd2-9d40-ef7c4e349357"
      },
      "execution_count": 10,
      "outputs": [
        {
          "output_type": "execute_result",
          "data": {
            "text/plain": [
              "12"
            ]
          },
          "metadata": {},
          "execution_count": 10
        }
      ]
    },
    {
      "cell_type": "code",
      "source": [
        "a[4]"
      ],
      "metadata": {
        "colab": {
          "base_uri": "https://localhost:8080/"
        },
        "id": "vZ0VGa09KzUe",
        "outputId": "14478f06-e66d-445d-88d6-c74db96c9765"
      },
      "execution_count": 11,
      "outputs": [
        {
          "output_type": "execute_result",
          "data": {
            "text/plain": [
              "5"
            ]
          },
          "metadata": {},
          "execution_count": 11
        }
      ]
    },
    {
      "cell_type": "code",
      "source": [
        "a[-4:]"
      ],
      "metadata": {
        "colab": {
          "base_uri": "https://localhost:8080/"
        },
        "id": "lSVRD2rpK2IM",
        "outputId": "e31c8e4c-f561-467e-ba16-11e91dcfeaad"
      },
      "execution_count": 12,
      "outputs": [
        {
          "output_type": "execute_result",
          "data": {
            "text/plain": [
              "array([ 9, 10, 11, 12])"
            ]
          },
          "metadata": {},
          "execution_count": 12
        }
      ]
    },
    {
      "cell_type": "code",
      "source": [
        "a[::3] # a jump of 3"
      ],
      "metadata": {
        "colab": {
          "base_uri": "https://localhost:8080/"
        },
        "id": "XmCEoCvbK9g0",
        "outputId": "d216681e-f3a8-4ee1-9711-d6e70ebce9f1"
      },
      "execution_count": 13,
      "outputs": [
        {
          "output_type": "execute_result",
          "data": {
            "text/plain": [
              "array([ 1,  4,  7, 10])"
            ]
          },
          "metadata": {},
          "execution_count": 13
        }
      ]
    },
    {
      "cell_type": "code",
      "source": [
        "a[::-1] # elements in reverse"
      ],
      "metadata": {
        "colab": {
          "base_uri": "https://localhost:8080/"
        },
        "id": "aWvI1Tl1LAh_",
        "outputId": "6fb623e7-0d24-4a3a-cbcc-2e72204aa2cb"
      },
      "execution_count": 14,
      "outputs": [
        {
          "output_type": "execute_result",
          "data": {
            "text/plain": [
              "array([12, 11, 10,  9,  8,  7,  6,  5,  4,  3,  2,  1])"
            ]
          },
          "metadata": {},
          "execution_count": 14
        }
      ]
    },
    {
      "cell_type": "code",
      "source": [
        "a[::-2]"
      ],
      "metadata": {
        "colab": {
          "base_uri": "https://localhost:8080/"
        },
        "id": "ZRdIaTbvLJBH",
        "outputId": "a8a4cdfb-c4f1-47aa-85f6-36526ef06b13"
      },
      "execution_count": 15,
      "outputs": [
        {
          "output_type": "execute_result",
          "data": {
            "text/plain": [
              "array([12, 10,  8,  6,  4,  2])"
            ]
          },
          "metadata": {},
          "execution_count": 15
        }
      ]
    },
    {
      "cell_type": "code",
      "source": [
        "a"
      ],
      "metadata": {
        "colab": {
          "base_uri": "https://localhost:8080/"
        },
        "id": "vYwvsuooLmOP",
        "outputId": "82aa311e-b031-4adc-b1c3-20507ad61a03"
      },
      "execution_count": 16,
      "outputs": [
        {
          "output_type": "execute_result",
          "data": {
            "text/plain": [
              "array([ 1,  2,  3,  4,  5,  6,  7,  8,  9, 10, 11, 12])"
            ]
          },
          "metadata": {},
          "execution_count": 16
        }
      ]
    },
    {
      "cell_type": "code",
      "source": [
        "a[-2:-10:-1]"
      ],
      "metadata": {
        "colab": {
          "base_uri": "https://localhost:8080/"
        },
        "id": "kzbPGftHLW09",
        "outputId": "c4be9855-3b5f-4b5f-9058-ab88ad81f976"
      },
      "execution_count": 17,
      "outputs": [
        {
          "output_type": "execute_result",
          "data": {
            "text/plain": [
              "array([11, 10,  9,  8,  7,  6,  5,  4])"
            ]
          },
          "metadata": {},
          "execution_count": 17
        }
      ]
    },
    {
      "cell_type": "code",
      "source": [
        "a[-10:-2:-1] # We're supposed to be going in the right direction (from -10) towards -2 , but -1 makes us go in the left direction. Hence, it gives us empty array."
      ],
      "metadata": {
        "colab": {
          "base_uri": "https://localhost:8080/"
        },
        "id": "IABk5DsDLsvn",
        "outputId": "e095cbd0-f874-4686-a529-986e900a17b8"
      },
      "execution_count": 18,
      "outputs": [
        {
          "output_type": "execute_result",
          "data": {
            "text/plain": [
              "array([], dtype=int64)"
            ]
          },
          "metadata": {},
          "execution_count": 18
        }
      ]
    },
    {
      "cell_type": "code",
      "source": [
        "a[12::1] # There's no index 12. Hence, an empty array."
      ],
      "metadata": {
        "colab": {
          "base_uri": "https://localhost:8080/"
        },
        "id": "5gmux3svL38y",
        "outputId": "820c9938-350b-4ead-d03e-1557f424e40b"
      },
      "execution_count": 19,
      "outputs": [
        {
          "output_type": "execute_result",
          "data": {
            "text/plain": [
              "array([], dtype=int64)"
            ]
          },
          "metadata": {},
          "execution_count": 19
        }
      ]
    },
    {
      "cell_type": "markdown",
      "source": [
        "# 2 D numpy array: Accessing elements/slicing\n",
        "\n",
        "Two ways:\n",
        "`a[row][column]` # Method 1 - Sometimes causes issues.\n",
        "\n",
        "`a[row,column]` # Method 2 - Preferred."
      ],
      "metadata": {
        "id": "0Uhw_dI-NRU0"
      }
    },
    {
      "cell_type": "code",
      "source": [
        "a = np.arange(1,13).reshape((4,3))"
      ],
      "metadata": {
        "id": "yI5aO7iCM0vm"
      },
      "execution_count": 22,
      "outputs": []
    },
    {
      "cell_type": "code",
      "source": [
        "print(a)"
      ],
      "metadata": {
        "colab": {
          "base_uri": "https://localhost:8080/"
        },
        "id": "MmJKrsxsNIpv",
        "outputId": "c495ca9b-463b-44e3-ebb8-7d4972bbb505"
      },
      "execution_count": 23,
      "outputs": [
        {
          "output_type": "stream",
          "name": "stdout",
          "text": [
            "[[ 1  2  3]\n",
            " [ 4  5  6]\n",
            " [ 7  8  9]\n",
            " [10 11 12]]\n"
          ]
        }
      ]
    },
    {
      "cell_type": "code",
      "source": [
        "a[0] # access rows"
      ],
      "metadata": {
        "colab": {
          "base_uri": "https://localhost:8080/"
        },
        "id": "8jVqEJSgNOag",
        "outputId": "73f42a32-d757-4f37-94b8-e61be95644be"
      },
      "execution_count": 24,
      "outputs": [
        {
          "output_type": "execute_result",
          "data": {
            "text/plain": [
              "array([1, 2, 3])"
            ]
          },
          "metadata": {},
          "execution_count": 24
        }
      ]
    },
    {
      "cell_type": "code",
      "source": [
        "a[0,:] # [r,c] - gives the same output as above"
      ],
      "metadata": {
        "colab": {
          "base_uri": "https://localhost:8080/"
        },
        "id": "0Jfprzt6ObUt",
        "outputId": "929a62b8-031e-42c7-c97a-686e77d8122f"
      },
      "execution_count": 26,
      "outputs": [
        {
          "output_type": "execute_result",
          "data": {
            "text/plain": [
              "array([1, 2, 3])"
            ]
          },
          "metadata": {},
          "execution_count": 26
        }
      ]
    },
    {
      "cell_type": "code",
      "source": [
        "a[:2]"
      ],
      "metadata": {
        "colab": {
          "base_uri": "https://localhost:8080/"
        },
        "id": "ehvijccROglW",
        "outputId": "b3497ac1-c34f-46dc-8687-d1430f048606"
      },
      "execution_count": 28,
      "outputs": [
        {
          "output_type": "execute_result",
          "data": {
            "text/plain": [
              "array([[1, 2, 3],\n",
              "       [4, 5, 6]])"
            ]
          },
          "metadata": {},
          "execution_count": 28
        }
      ]
    },
    {
      "cell_type": "code",
      "source": [
        "a[:2, :] # Gives same output as above"
      ],
      "metadata": {
        "colab": {
          "base_uri": "https://localhost:8080/"
        },
        "id": "R-XLxpi-UPIM",
        "outputId": "73a3dda8-c59a-4153-8992-99d5aadf2c84"
      },
      "execution_count": 29,
      "outputs": [
        {
          "output_type": "execute_result",
          "data": {
            "text/plain": [
              "array([[1, 2, 3],\n",
              "       [4, 5, 6]])"
            ]
          },
          "metadata": {},
          "execution_count": 29
        }
      ]
    },
    {
      "cell_type": "code",
      "source": [
        " a[1:3, :] "
      ],
      "metadata": {
        "colab": {
          "base_uri": "https://localhost:8080/"
        },
        "id": "nbilt3WYUZYi",
        "outputId": "2a6ac77e-85a3-493c-9195-aea619e372fc"
      },
      "execution_count": 30,
      "outputs": [
        {
          "output_type": "execute_result",
          "data": {
            "text/plain": [
              "array([[4, 5, 6],\n",
              "       [7, 8, 9]])"
            ]
          },
          "metadata": {},
          "execution_count": 30
        }
      ]
    },
    {
      "cell_type": "code",
      "source": [
        "a"
      ],
      "metadata": {
        "colab": {
          "base_uri": "https://localhost:8080/"
        },
        "id": "8QZnyYoSU8JR",
        "outputId": "9522c0b8-d11c-4089-b813-83e53dae8741"
      },
      "execution_count": 32,
      "outputs": [
        {
          "output_type": "execute_result",
          "data": {
            "text/plain": [
              "array([[ 1,  2,  3],\n",
              "       [ 4,  5,  6],\n",
              "       [ 7,  8,  9],\n",
              "       [10, 11, 12]])"
            ]
          },
          "metadata": {},
          "execution_count": 32
        }
      ]
    },
    {
      "cell_type": "code",
      "source": [
        "a[1:3,:2] # Here, we're taking row from index 1 to 2 and column from index 0 to 1"
      ],
      "metadata": {
        "colab": {
          "base_uri": "https://localhost:8080/"
        },
        "id": "ln-cmd6cUpvr",
        "outputId": "e490111c-2249-47a0-def0-d0392d38364d"
      },
      "execution_count": 31,
      "outputs": [
        {
          "output_type": "execute_result",
          "data": {
            "text/plain": [
              "array([[4, 5],\n",
              "       [7, 8]])"
            ]
          },
          "metadata": {},
          "execution_count": 31
        }
      ]
    },
    {
      "cell_type": "code",
      "source": [
        "a[1:3, 1:2]"
      ],
      "metadata": {
        "colab": {
          "base_uri": "https://localhost:8080/"
        },
        "id": "_pKTSaEWUx30",
        "outputId": "c2eac397-97a4-4734-a47e-e135d1b036f9"
      },
      "execution_count": 33,
      "outputs": [
        {
          "output_type": "execute_result",
          "data": {
            "text/plain": [
              "array([[5],\n",
              "       [8]])"
            ]
          },
          "metadata": {},
          "execution_count": 33
        }
      ]
    },
    {
      "cell_type": "code",
      "source": [
        "a"
      ],
      "metadata": {
        "colab": {
          "base_uri": "https://localhost:8080/"
        },
        "id": "cS6ZGmyXVGoV",
        "outputId": "564a3e74-21d2-4230-be79-60dee5ab43f8"
      },
      "execution_count": 34,
      "outputs": [
        {
          "output_type": "execute_result",
          "data": {
            "text/plain": [
              "array([[ 1,  2,  3],\n",
              "       [ 4,  5,  6],\n",
              "       [ 7,  8,  9],\n",
              "       [10, 11, 12]])"
            ]
          },
          "metadata": {},
          "execution_count": 34
        }
      ]
    },
    {
      "cell_type": "code",
      "source": [
        "a[::2, ::2] # jump of 2 for both"
      ],
      "metadata": {
        "colab": {
          "base_uri": "https://localhost:8080/"
        },
        "id": "ccAb7gxSVYxW",
        "outputId": "913c259b-fb61-43d2-c83f-cfc0c2932e28"
      },
      "execution_count": 35,
      "outputs": [
        {
          "output_type": "execute_result",
          "data": {
            "text/plain": [
              "array([[1, 3],\n",
              "       [7, 9]])"
            ]
          },
          "metadata": {},
          "execution_count": 35
        }
      ]
    },
    {
      "cell_type": "code",
      "source": [
        "a[1::2, ::2]"
      ],
      "metadata": {
        "colab": {
          "base_uri": "https://localhost:8080/"
        },
        "id": "jqLSP8gEVbWS",
        "outputId": "c60348c5-13e6-4ed9-a321-0e88f8573d8d"
      },
      "execution_count": 36,
      "outputs": [
        {
          "output_type": "execute_result",
          "data": {
            "text/plain": [
              "array([[ 4,  6],\n",
              "       [10, 12]])"
            ]
          },
          "metadata": {},
          "execution_count": 36
        }
      ]
    },
    {
      "cell_type": "markdown",
      "source": [
        "**Accessing specific rows and columns:**"
      ],
      "metadata": {
        "id": "eb_SA8dDVyks"
      }
    },
    {
      "cell_type": "code",
      "source": [
        "a"
      ],
      "metadata": {
        "colab": {
          "base_uri": "https://localhost:8080/"
        },
        "id": "4Bqj5DbsV83t",
        "outputId": "c43056bb-c2a7-4288-ec9e-ee9b4af84109"
      },
      "execution_count": 38,
      "outputs": [
        {
          "output_type": "execute_result",
          "data": {
            "text/plain": [
              "array([[ 1,  2,  3],\n",
              "       [ 4,  5,  6],\n",
              "       [ 7,  8,  9],\n",
              "       [10, 11, 12]])"
            ]
          },
          "metadata": {},
          "execution_count": 38
        }
      ]
    },
    {
      "cell_type": "code",
      "source": [
        "a[[0, 1, 3], :] # Mentioning array of indexes of specific rows to get those specific rows."
      ],
      "metadata": {
        "colab": {
          "base_uri": "https://localhost:8080/"
        },
        "id": "KTj1EgoKVk8s",
        "outputId": "dcf20440-2ad0-4ef4-c9e8-9870bb2d57f9"
      },
      "execution_count": 37,
      "outputs": [
        {
          "output_type": "execute_result",
          "data": {
            "text/plain": [
              "array([[ 1,  2,  3],\n",
              "       [ 4,  5,  6],\n",
              "       [10, 11, 12]])"
            ]
          },
          "metadata": {},
          "execution_count": 37
        }
      ]
    },
    {
      "cell_type": "code",
      "source": [
        "a[(0, 1, 3), :] # You can use tuple instead of list here. But, you can only use a tuple in 2D array."
      ],
      "metadata": {
        "colab": {
          "base_uri": "https://localhost:8080/"
        },
        "id": "xfJNn_zjV6mq",
        "outputId": "4293ba6f-4556-4b1c-d6b7-d6379131b6d8"
      },
      "execution_count": 43,
      "outputs": [
        {
          "output_type": "execute_result",
          "data": {
            "text/plain": [
              "array([[ 1,  2,  3],\n",
              "       [ 4,  5,  6],\n",
              "       [10, 11, 12]])"
            ]
          },
          "metadata": {},
          "execution_count": 43
        }
      ]
    },
    {
      "cell_type": "code",
      "source": [
        "x = np.array([1,2,3])\n",
        "x[(0,2)] # tuple doesn't work for 1D array"
      ],
      "metadata": {
        "colab": {
          "base_uri": "https://localhost:8080/",
          "height": 189
        },
        "id": "7kMznobaWLcJ",
        "outputId": "484a55cf-141c-4793-b4db-36bf9c3230bc"
      },
      "execution_count": 40,
      "outputs": [
        {
          "output_type": "error",
          "ename": "IndexError",
          "evalue": "ignored",
          "traceback": [
            "\u001b[0;31m---------------------------------------------------------------------------\u001b[0m",
            "\u001b[0;31mIndexError\u001b[0m                                Traceback (most recent call last)",
            "\u001b[0;32m<ipython-input-40-dafa76c94f99>\u001b[0m in \u001b[0;36m<module>\u001b[0;34m\u001b[0m\n\u001b[1;32m      1\u001b[0m \u001b[0mx\u001b[0m \u001b[0;34m=\u001b[0m \u001b[0mnp\u001b[0m\u001b[0;34m.\u001b[0m\u001b[0marray\u001b[0m\u001b[0;34m(\u001b[0m\u001b[0;34m[\u001b[0m\u001b[0;36m1\u001b[0m\u001b[0;34m,\u001b[0m\u001b[0;36m2\u001b[0m\u001b[0;34m,\u001b[0m\u001b[0;36m3\u001b[0m\u001b[0;34m]\u001b[0m\u001b[0;34m)\u001b[0m\u001b[0;34m\u001b[0m\u001b[0;34m\u001b[0m\u001b[0m\n\u001b[0;32m----> 2\u001b[0;31m \u001b[0mx\u001b[0m\u001b[0;34m[\u001b[0m\u001b[0;34m(\u001b[0m\u001b[0;36m0\u001b[0m\u001b[0;34m,\u001b[0m\u001b[0;36m2\u001b[0m\u001b[0;34m)\u001b[0m\u001b[0;34m]\u001b[0m\u001b[0;34m\u001b[0m\u001b[0;34m\u001b[0m\u001b[0m\n\u001b[0m",
            "\u001b[0;31mIndexError\u001b[0m: too many indices for array: array is 1-dimensional, but 2 were indexed"
          ]
        }
      ]
    },
    {
      "cell_type": "code",
      "source": [
        "x = np.array([1,2,3]) \n",
        "x[[0,2]]  # 1D array - Accessing rows by giving array of list indexes works."
      ],
      "metadata": {
        "colab": {
          "base_uri": "https://localhost:8080/"
        },
        "id": "TjKOSFAfWRZP",
        "outputId": "d8aacb1e-0c87-4acf-f2a4-3f6226282c7f"
      },
      "execution_count": 41,
      "outputs": [
        {
          "output_type": "execute_result",
          "data": {
            "text/plain": [
              "array([1, 3])"
            ]
          },
          "metadata": {},
          "execution_count": 41
        }
      ]
    },
    {
      "cell_type": "code",
      "source": [
        "a"
      ],
      "metadata": {
        "colab": {
          "base_uri": "https://localhost:8080/"
        },
        "id": "TqbnlcRbWZIj",
        "outputId": "7ea3a7b5-ba4d-4669-e4ef-118735ba5e17"
      },
      "execution_count": 44,
      "outputs": [
        {
          "output_type": "execute_result",
          "data": {
            "text/plain": [
              "array([[ 1,  2,  3],\n",
              "       [ 4,  5,  6],\n",
              "       [ 7,  8,  9],\n",
              "       [10, 11, 12]])"
            ]
          },
          "metadata": {},
          "execution_count": 44
        }
      ]
    },
    {
      "cell_type": "code",
      "source": [
        "a[(0,1,3), 1:]"
      ],
      "metadata": {
        "colab": {
          "base_uri": "https://localhost:8080/"
        },
        "id": "qHzvCvTdXQwt",
        "outputId": "2e04a7fa-fc8b-4fbb-ee3e-ab617a4e7ee4"
      },
      "execution_count": 46,
      "outputs": [
        {
          "output_type": "execute_result",
          "data": {
            "text/plain": [
              "array([[ 2,  3],\n",
              "       [ 5,  6],\n",
              "       [11, 12]])"
            ]
          },
          "metadata": {},
          "execution_count": 46
        }
      ]
    },
    {
      "cell_type": "markdown",
      "source": [
        "**Accessing (r,c) pairs:**"
      ],
      "metadata": {
        "id": "9NMszqkTYA4y"
      }
    },
    {
      "cell_type": "code",
      "source": [
        "a"
      ],
      "metadata": {
        "colab": {
          "base_uri": "https://localhost:8080/"
        },
        "id": "kAM1Vjhnaj5l",
        "outputId": "61b7f206-13a6-4a06-9c49-7705eed5f8b4"
      },
      "execution_count": 49,
      "outputs": [
        {
          "output_type": "execute_result",
          "data": {
            "text/plain": [
              "array([[ 1,  2,  3],\n",
              "       [ 4,  5,  6],\n",
              "       [ 7,  8,  9],\n",
              "       [10, 11, 12]])"
            ]
          },
          "metadata": {},
          "execution_count": 49
        }
      ]
    },
    {
      "cell_type": "code",
      "source": [
        "a[[0,1,3], [1,2,0]]    # Special case - Observe that it gives the elements with r,c from corresponding arrays as (0,1), (1,2), (3,0). "
      ],
      "metadata": {
        "colab": {
          "base_uri": "https://localhost:8080/"
        },
        "id": "S-rIG8JFahW4",
        "outputId": "9fbbe537-276e-4d64-a8bc-d11939c37834"
      },
      "execution_count": 48,
      "outputs": [
        {
          "output_type": "execute_result",
          "data": {
            "text/plain": [
              "array([ 2,  6, 10])"
            ]
          },
          "metadata": {},
          "execution_count": 48
        }
      ]
    },
    {
      "cell_type": "markdown",
      "source": [
        "![Artboard – 1.png](data:image/png;base64,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)"
      ],
      "metadata": {
        "id": "rNzbr-n8aTZz"
      }
    }
  ]
}